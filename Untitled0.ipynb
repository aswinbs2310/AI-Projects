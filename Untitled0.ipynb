{
 "cells": [
  {
   "cell_type": "code",
   "execution_count": 45,
   "metadata": {
    "id": "gweI_0wOVOM2"
   },
   "outputs": [],
   "source": [
    "import tensorflow as tf\n",
    "from keras.preprocessing.image import ImageDataGenerator"
   ]
  },
  {
   "cell_type": "code",
   "execution_count": 46,
   "metadata": {
    "id": "ApdLYRdWWQRo"
   },
   "outputs": [
    {
     "name": "stdout",
     "output_type": "stream",
     "text": [
      "Found 8000 images belonging to 2 classes.\n"
     ]
    }
   ],
   "source": [
    "train_datagen = ImageDataGenerator(\n",
    "        rescale=1./255,\n",
    "        shear_range=0.2,\n",
    "        zoom_range=0.2,\n",
    "        horizontal_flip=True)\n",
    "training_set = train_datagen.flow_from_directory(\"dataset/training_set\",\n",
    "                                                 target_size=(64,64),\n",
    "                                                 batch_size = 32,\n",
    "                                                 class_mode = \"binary\")\n"
   ]
  },
  {
   "cell_type": "code",
   "execution_count": 47,
   "metadata": {
    "id": "UpZene6BaRlC"
   },
   "outputs": [
    {
     "name": "stdout",
     "output_type": "stream",
     "text": [
      "Found 2000 images belonging to 2 classes.\n"
     ]
    }
   ],
   "source": [
    "test_datagen = ImageDataGenerator(rescale = 1./255)\n",
    "test_set = test_datagen.flow_from_directory('dataset/test_set',\n",
    "                                            target_size = (64, 64),\n",
    "                                            batch_size = 32,\n",
    "                                            class_mode = 'binary')"
   ]
  },
  {
   "cell_type": "code",
   "execution_count": 48,
   "metadata": {
    "id": "7kPi3Me1aaeC"
   },
   "outputs": [],
   "source": [
    "cnn = tf.keras.models.Sequential()"
   ]
  },
  {
   "cell_type": "code",
   "execution_count": 49,
   "metadata": {
    "id": "Ra2Ac49fajLr"
   },
   "outputs": [],
   "source": [
    "cnn.add(tf.keras.layers.Conv2D(filters=32, kernel_size = 3, padding = \"same\", activation= \"relu\", input_shape=[64,64,3]))"
   ]
  },
  {
   "cell_type": "code",
   "execution_count": 50,
   "metadata": {
    "id": "IQKT-AcvbHrq"
   },
   "outputs": [],
   "source": [
    "cnn.add(tf.keras.layers.MaxPool2D(pool_size=2, strides=2, padding='valid'))"
   ]
  },
  {
   "cell_type": "code",
   "execution_count": 51,
   "metadata": {
    "id": "IZrE9yz1bLO4"
   },
   "outputs": [],
   "source": [
    "cnn.add(tf.keras.layers.Conv2D(filters=32, kernel_size=3, padding=\"same\", activation=\"relu\"))\n",
    "cnn.add(tf.keras.layers.MaxPool2D(pool_size=2, strides=2, padding='valid'))"
   ]
  },
  {
   "cell_type": "code",
   "execution_count": 52,
   "metadata": {
    "id": "9CqClzDtbPyT"
   },
   "outputs": [],
   "source": [
    "cnn.add(tf.keras.layers.Flatten())"
   ]
  },
  {
   "cell_type": "code",
   "execution_count": 53,
   "metadata": {
    "id": "FlCb2B8abVtu"
   },
   "outputs": [],
   "source": [
    "cnn.add(tf.keras.layers.Dense(units=128, activation='relu'))"
   ]
  },
  {
   "cell_type": "code",
   "execution_count": null,
   "metadata": {},
   "outputs": [],
   "source": []
  },
  {
   "cell_type": "code",
   "execution_count": 54,
   "metadata": {
    "id": "wMfPu90RbbUY"
   },
   "outputs": [],
   "source": [
    "cnn.add(tf.keras.layers.Dense(units=1, activation='sigmoid'))"
   ]
  },
  {
   "cell_type": "code",
   "execution_count": 55,
   "metadata": {
    "id": "JgJVxkf1bhsh"
   },
   "outputs": [],
   "source": [
    "cnn.compile(optimizer = 'adam', loss = 'binary_crossentropy', metrics = ['accuracy'])"
   ]
  },
  {
   "cell_type": "code",
   "execution_count": 56,
   "metadata": {
    "id": "vEdbOCL-blW7"
   },
   "outputs": [
    {
     "name": "stdout",
     "output_type": "stream",
     "text": [
      "Epoch 1/25\n",
      "250/250 [==============================] - 44s 174ms/step - loss: 0.6887 - accuracy: 0.5493 - val_loss: 0.6500 - val_accuracy: 0.6155\n",
      "Epoch 2/25\n",
      "250/250 [==============================] - 53s 212ms/step - loss: 0.6250 - accuracy: 0.6546 - val_loss: 0.5901 - val_accuracy: 0.6985\n",
      "Epoch 3/25\n",
      "250/250 [==============================] - 26s 104ms/step - loss: 0.5844 - accuracy: 0.6894 - val_loss: 0.5443 - val_accuracy: 0.7220\n",
      "Epoch 4/25\n",
      "250/250 [==============================] - 26s 104ms/step - loss: 0.5471 - accuracy: 0.7224 - val_loss: 0.5827 - val_accuracy: 0.7000\n",
      "Epoch 5/25\n",
      "250/250 [==============================] - 26s 104ms/step - loss: 0.5115 - accuracy: 0.7487 - val_loss: 0.5153 - val_accuracy: 0.7440\n",
      "Epoch 6/25\n",
      "250/250 [==============================] - 26s 104ms/step - loss: 0.4960 - accuracy: 0.7563 - val_loss: 0.5217 - val_accuracy: 0.7465\n",
      "Epoch 7/25\n",
      "250/250 [==============================] - 26s 104ms/step - loss: 0.4808 - accuracy: 0.7639 - val_loss: 0.4674 - val_accuracy: 0.7755\n",
      "Epoch 8/25\n",
      "250/250 [==============================] - 26s 106ms/step - loss: 0.4661 - accuracy: 0.7774 - val_loss: 0.5014 - val_accuracy: 0.7565\n",
      "Epoch 9/25\n",
      "250/250 [==============================] - 26s 104ms/step - loss: 0.4475 - accuracy: 0.7849 - val_loss: 0.4593 - val_accuracy: 0.7870\n",
      "Epoch 10/25\n",
      "250/250 [==============================] - 26s 105ms/step - loss: 0.4397 - accuracy: 0.7941 - val_loss: 0.4605 - val_accuracy: 0.7870\n",
      "Epoch 11/25\n",
      "250/250 [==============================] - 27s 108ms/step - loss: 0.4286 - accuracy: 0.7969 - val_loss: 0.4518 - val_accuracy: 0.7825\n",
      "Epoch 12/25\n",
      "250/250 [==============================] - 26s 105ms/step - loss: 0.4254 - accuracy: 0.8034 - val_loss: 0.5138 - val_accuracy: 0.7665\n",
      "Epoch 13/25\n",
      "250/250 [==============================] - 26s 105ms/step - loss: 0.4228 - accuracy: 0.8010 - val_loss: 0.4624 - val_accuracy: 0.7870\n",
      "Epoch 14/25\n",
      "250/250 [==============================] - 26s 106ms/step - loss: 0.4094 - accuracy: 0.8125 - val_loss: 0.4624 - val_accuracy: 0.7825\n",
      "Epoch 15/25\n",
      "250/250 [==============================] - 26s 104ms/step - loss: 0.3970 - accuracy: 0.8145 - val_loss: 0.4349 - val_accuracy: 0.8020\n",
      "Epoch 16/25\n",
      "250/250 [==============================] - 26s 105ms/step - loss: 0.3864 - accuracy: 0.8232 - val_loss: 0.4838 - val_accuracy: 0.7905\n",
      "Epoch 17/25\n",
      "250/250 [==============================] - 26s 105ms/step - loss: 0.3856 - accuracy: 0.8239 - val_loss: 0.4478 - val_accuracy: 0.7895\n",
      "Epoch 18/25\n",
      "250/250 [==============================] - 26s 105ms/step - loss: 0.3780 - accuracy: 0.8254 - val_loss: 0.4644 - val_accuracy: 0.7900\n",
      "Epoch 19/25\n",
      "250/250 [==============================] - 28s 114ms/step - loss: 0.3670 - accuracy: 0.8350 - val_loss: 0.4667 - val_accuracy: 0.7885\n",
      "Epoch 20/25\n",
      "250/250 [==============================] - 32s 128ms/step - loss: 0.3633 - accuracy: 0.8413 - val_loss: 0.4481 - val_accuracy: 0.7975\n",
      "Epoch 21/25\n",
      "250/250 [==============================] - 30s 121ms/step - loss: 0.3601 - accuracy: 0.8395 - val_loss: 0.4375 - val_accuracy: 0.8045\n",
      "Epoch 22/25\n",
      "250/250 [==============================] - 30s 118ms/step - loss: 0.3486 - accuracy: 0.8422 - val_loss: 0.4503 - val_accuracy: 0.7985\n",
      "Epoch 23/25\n",
      "250/250 [==============================] - 30s 120ms/step - loss: 0.3404 - accuracy: 0.8475 - val_loss: 0.4629 - val_accuracy: 0.7955\n",
      "Epoch 24/25\n",
      "250/250 [==============================] - 30s 118ms/step - loss: 0.3369 - accuracy: 0.8514 - val_loss: 0.4448 - val_accuracy: 0.8015\n",
      "Epoch 25/25\n",
      "250/250 [==============================] - 30s 120ms/step - loss: 0.3298 - accuracy: 0.8560 - val_loss: 0.4391 - val_accuracy: 0.8055\n"
     ]
    },
    {
     "data": {
      "text/plain": [
       "<keras.callbacks.History at 0x20ac129ba30>"
      ]
     },
     "execution_count": 56,
     "metadata": {},
     "output_type": "execute_result"
    }
   ],
   "source": [
    "cnn.fit(x = training_set, validation_data = test_set, epochs = 25)"
   ]
  },
  {
   "cell_type": "code",
   "execution_count": 58,
   "metadata": {
    "id": "REdjq211bxc9"
   },
   "outputs": [
    {
     "name": "stdout",
     "output_type": "stream",
     "text": [
      "1/1 [==============================] - 0s 61ms/step\n"
     ]
    }
   ],
   "source": [
    "import numpy as np\n",
    "from keras.preprocessing import image\n",
    "test_image = tf.keras.utils.load_img('dataset/single_prediction/cat_or_dog_1.jpg', target_size = (64, 64))\n",
    "test_image = tf.keras.utils.img_to_array(test_image)\n",
    "test_image = np.expand_dims(test_image, axis = 0)\n",
    "result = cnn.predict(test_image)\n",
    "training_set.class_indices\n",
    "if result[0][0] == 1:\n",
    "    prediction = 'dog'\n",
    "else:\n",
    "    prediction = 'cat'"
   ]
  },
  {
   "cell_type": "code",
   "execution_count": 59,
   "metadata": {
    "id": "-JCGjSUyb1Ao"
   },
   "outputs": [
    {
     "name": "stdout",
     "output_type": "stream",
     "text": [
      "dog\n"
     ]
    }
   ],
   "source": [
    "print(prediction)"
   ]
  },
  {
   "cell_type": "code",
   "execution_count": null,
   "metadata": {},
   "outputs": [],
   "source": []
  }
 ],
 "metadata": {
  "colab": {
   "provenance": []
  },
  "kernelspec": {
   "display_name": "Python 3 (ipykernel)",
   "language": "python",
   "name": "python3"
  },
  "language_info": {
   "codemirror_mode": {
    "name": "ipython",
    "version": 3
   },
   "file_extension": ".py",
   "mimetype": "text/x-python",
   "name": "python",
   "nbconvert_exporter": "python",
   "pygments_lexer": "ipython3",
   "version": "3.9.12"
  }
 },
 "nbformat": 4,
 "nbformat_minor": 1
}
